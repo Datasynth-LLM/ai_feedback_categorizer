{
 "cells": [
  {
   "cell_type": "markdown",
   "id": "3ecc2412",
   "metadata": {},
   "source": [
    "# 🧠 AI Feedback Categorizer with Hugging Face Transformers\n",
    "This notebook analyzes user feedback using zero-shot classification, sentiment analysis, and keyword extraction."
   ]
  },
  {
   "cell_type": "markdown",
   "id": "cf08f537",
   "metadata": {},
   "source": [
    "## 📦 Step 1: Install Dependencies"
   ]
  },
  {
   "cell_type": "code",
   "execution_count": null,
   "id": "7855c363",
   "metadata": {},
   "outputs": [],
   "source": [
    "!pip install pandas streamlit scikit-learn matplotlib seaborn transformers torch"
   ]
  },
  {
   "cell_type": "markdown",
   "id": "b79ed896",
   "metadata": {},
   "source": [
    "## 🧪 Step 2: Import Libraries"
   ]
  },
  {
   "cell_type": "code",
   "execution_count": 20,
   "id": "e85a5494",
   "metadata": {},
   "outputs": [],
   "source": [
    "import pandas as pd\n",
    "import matplotlib.pyplot as plt\n",
    "import seaborn as sns\n",
    "from sklearn.feature_extraction.text import CountVectorizer\n",
    "from transformers import pipeline\n",
    "import IPython.display as display"
   ]
  },
  {
   "cell_type": "markdown",
   "id": "63abc928",
   "metadata": {},
   "source": [
    "## 🗃️ Step 3: Load Feedback Data"
   ]
  },
  {
   "cell_type": "code",
   "execution_count": 21,
   "id": "fda80e2c",
   "metadata": {},
   "outputs": [
    {
     "data": {
      "text/html": [
       "<div>\n",
       "<style scoped>\n",
       "    .dataframe tbody tr th:only-of-type {\n",
       "        vertical-align: middle;\n",
       "    }\n",
       "\n",
       "    .dataframe tbody tr th {\n",
       "        vertical-align: top;\n",
       "    }\n",
       "\n",
       "    .dataframe thead th {\n",
       "        text-align: right;\n",
       "    }\n",
       "</style>\n",
       "<table border=\"1\" class=\"dataframe\">\n",
       "  <thead>\n",
       "    <tr style=\"text-align: right;\">\n",
       "      <th></th>\n",
       "      <th>feedback</th>\n",
       "      <th>source</th>\n",
       "      <th>timestamp</th>\n",
       "    </tr>\n",
       "  </thead>\n",
       "  <tbody>\n",
       "    <tr>\n",
       "      <th>0</th>\n",
       "      <td>The app crashes every time I try to upload a p...</td>\n",
       "      <td>Google Play</td>\n",
       "      <td>2025-06-01</td>\n",
       "    </tr>\n",
       "    <tr>\n",
       "      <th>1</th>\n",
       "      <td>Love the new dark mode feature!</td>\n",
       "      <td>App Store</td>\n",
       "      <td>2025-06-02</td>\n",
       "    </tr>\n",
       "    <tr>\n",
       "      <th>2</th>\n",
       "      <td>Can you add support for multiple accounts?</td>\n",
       "      <td>Email</td>\n",
       "      <td>2025-06-03</td>\n",
       "    </tr>\n",
       "    <tr>\n",
       "      <th>3</th>\n",
       "      <td>Customer support was very helpful.</td>\n",
       "      <td>Trustpilot</td>\n",
       "      <td>2025-06-04</td>\n",
       "    </tr>\n",
       "    <tr>\n",
       "      <th>4</th>\n",
       "      <td>The login process is too slow.</td>\n",
       "      <td>Google Play</td>\n",
       "      <td>2025-06-05</td>\n",
       "    </tr>\n",
       "  </tbody>\n",
       "</table>\n",
       "</div>"
      ],
      "text/plain": [
       "                                            feedback       source   timestamp\n",
       "0  The app crashes every time I try to upload a p...  Google Play  2025-06-01\n",
       "1                    Love the new dark mode feature!    App Store  2025-06-02\n",
       "2         Can you add support for multiple accounts?        Email  2025-06-03\n",
       "3                 Customer support was very helpful.   Trustpilot  2025-06-04\n",
       "4                     The login process is too slow.  Google Play  2025-06-05"
      ]
     },
     "execution_count": 21,
     "metadata": {},
     "output_type": "execute_result"
    }
   ],
   "source": [
    "data = [\n",
    "    {\"feedback\": \"The app crashes every time I try to upload a photo.\", \"source\": \"Google Play\", \"timestamp\": \"2025-06-01\"},\n",
    "    {\"feedback\": \"Love the new dark mode feature!\", \"source\": \"App Store\", \"timestamp\": \"2025-06-02\"},\n",
    "    {\"feedback\": \"Can you add support for multiple accounts?\", \"source\": \"Email\", \"timestamp\": \"2025-06-03\"},\n",
    "    {\"feedback\": \"Customer support was very helpful.\", \"source\": \"Trustpilot\", \"timestamp\": \"2025-06-04\"},\n",
    "    {\"feedback\": \"The login process is too slow.\", \"source\": \"Google Play\", \"timestamp\": \"2025-06-05\"},\n",
    "]\n",
    "df = pd.DataFrame(data)\n",
    "df.head()"
   ]
  },
  {
   "cell_type": "markdown",
   "id": "1a636be1",
   "metadata": {},
   "source": [
    "## 🤗 Step 4: Load Hugging Face Pipelines"
   ]
  },
  {
   "cell_type": "code",
   "execution_count": 22,
   "id": "866306b7",
   "metadata": {},
   "outputs": [
    {
     "name": "stderr",
     "output_type": "stream",
     "text": [
      "Device set to use cpu\n",
      "No model was supplied, defaulted to distilbert/distilbert-base-uncased-finetuned-sst-2-english and revision 714eb0f (https://huggingface.co/distilbert/distilbert-base-uncased-finetuned-sst-2-english).\n",
      "Using a pipeline without specifying a model name and revision in production is not recommended.\n",
      "Device set to use cpu\n"
     ]
    }
   ],
   "source": [
    "# Load Transformers\n",
    "classifier = pipeline(\"zero-shot-classification\", model=\"facebook/bart-large-mnli\")\n",
    "sentiment_analyzer = pipeline(\"sentiment-analysis\")"
   ]
  },
  {
   "cell_type": "markdown",
   "id": "3a1f37e0",
   "metadata": {},
   "source": [
    "## 🧠 Step 5: Classify Categories, Analyze Sentiment, and Determine Urgency"
   ]
  },
  {
   "cell_type": "code",
   "execution_count": 23,
   "id": "82887cd5",
   "metadata": {},
   "outputs": [
    {
     "data": {
      "text/html": [
       "<div>\n",
       "<style scoped>\n",
       "    .dataframe tbody tr th:only-of-type {\n",
       "        vertical-align: middle;\n",
       "    }\n",
       "\n",
       "    .dataframe tbody tr th {\n",
       "        vertical-align: top;\n",
       "    }\n",
       "\n",
       "    .dataframe thead th {\n",
       "        text-align: right;\n",
       "    }\n",
       "</style>\n",
       "<table border=\"1\" class=\"dataframe\">\n",
       "  <thead>\n",
       "    <tr style=\"text-align: right;\">\n",
       "      <th></th>\n",
       "      <th>feedback</th>\n",
       "      <th>source</th>\n",
       "      <th>timestamp</th>\n",
       "      <th>categories</th>\n",
       "      <th>sentiment</th>\n",
       "      <th>urgency</th>\n",
       "    </tr>\n",
       "  </thead>\n",
       "  <tbody>\n",
       "    <tr>\n",
       "      <th>0</th>\n",
       "      <td>The app crashes every time I try to upload a p...</td>\n",
       "      <td>Google Play</td>\n",
       "      <td>2025-06-01</td>\n",
       "      <td>[Complaint, Bug]</td>\n",
       "      <td>NEGATIVE</td>\n",
       "      <td>High</td>\n",
       "    </tr>\n",
       "    <tr>\n",
       "      <th>1</th>\n",
       "      <td>Love the new dark mode feature!</td>\n",
       "      <td>App Store</td>\n",
       "      <td>2025-06-02</td>\n",
       "      <td>[Compliment]</td>\n",
       "      <td>POSITIVE</td>\n",
       "      <td>Low</td>\n",
       "    </tr>\n",
       "    <tr>\n",
       "      <th>2</th>\n",
       "      <td>Can you add support for multiple accounts?</td>\n",
       "      <td>Email</td>\n",
       "      <td>2025-06-03</td>\n",
       "      <td>[Feature Request, Complaint]</td>\n",
       "      <td>NEGATIVE</td>\n",
       "      <td>High</td>\n",
       "    </tr>\n",
       "    <tr>\n",
       "      <th>3</th>\n",
       "      <td>Customer support was very helpful.</td>\n",
       "      <td>Trustpilot</td>\n",
       "      <td>2025-06-04</td>\n",
       "      <td>[Compliment]</td>\n",
       "      <td>POSITIVE</td>\n",
       "      <td>Low</td>\n",
       "    </tr>\n",
       "    <tr>\n",
       "      <th>4</th>\n",
       "      <td>The login process is too slow.</td>\n",
       "      <td>Google Play</td>\n",
       "      <td>2025-06-05</td>\n",
       "      <td>[Complaint, Bug, General]</td>\n",
       "      <td>NEGATIVE</td>\n",
       "      <td>High</td>\n",
       "    </tr>\n",
       "  </tbody>\n",
       "</table>\n",
       "</div>"
      ],
      "text/plain": [
       "                                            feedback       source   timestamp  \\\n",
       "0  The app crashes every time I try to upload a p...  Google Play  2025-06-01   \n",
       "1                    Love the new dark mode feature!    App Store  2025-06-02   \n",
       "2         Can you add support for multiple accounts?        Email  2025-06-03   \n",
       "3                 Customer support was very helpful.   Trustpilot  2025-06-04   \n",
       "4                     The login process is too slow.  Google Play  2025-06-05   \n",
       "\n",
       "                     categories sentiment urgency  \n",
       "0              [Complaint, Bug]  NEGATIVE    High  \n",
       "1                  [Compliment]  POSITIVE     Low  \n",
       "2  [Feature Request, Complaint]  NEGATIVE    High  \n",
       "3                  [Compliment]  POSITIVE     Low  \n",
       "4     [Complaint, Bug, General]  NEGATIVE    High  "
      ]
     },
     "execution_count": 23,
     "metadata": {},
     "output_type": "execute_result"
    }
   ],
   "source": [
    "# Define categories\n",
    "categories = [\"Bug\", \"Feature Request\", \"Complaint\", \"Compliment\", \"General\"]\n",
    "\n",
    "def classify_and_analyze(feedback):\n",
    "    class_result = classifier(feedback, categories, multi_label=True)\n",
    "    assigned = [label for label, score in zip(class_result['labels'], class_result['scores']) if score > 0.5]\n",
    "    if not assigned:\n",
    "        assigned = [\"General\"]\n",
    "    sentiment_result = sentiment_analyzer(feedback)[0]\n",
    "    sentiment = sentiment_result['label']\n",
    "    if \"Bug\" in assigned or \"Complaint\" in assigned:\n",
    "        urgency = \"High\"\n",
    "    elif \"Feature Request\" in assigned:\n",
    "        urgency = \"Medium\"\n",
    "    else:\n",
    "        urgency = \"Low\"\n",
    "    return pd.Series([assigned, sentiment, urgency])\n",
    "\n",
    "df[['categories', 'sentiment', 'urgency']] = df['feedback'].apply(classify_and_analyze)\n",
    "df"
   ]
  },
  {
   "cell_type": "markdown",
   "id": "a1205fd0",
   "metadata": {},
   "source": [
    "## 🗝️ Step 6: Extract Top Keywords"
   ]
  },
  {
   "cell_type": "code",
   "execution_count": 24,
   "id": "1165b5aa",
   "metadata": {},
   "outputs": [
    {
     "data": {
      "text/markdown": [
       "### 🔑 Top Keywords\n",
       "- accounts\n",
       "- add\n",
       "- app\n",
       "- crashes\n",
       "- customer\n",
       "- dark\n",
       "- feature\n",
       "- login\n",
       "- love\n",
       "- support"
      ],
      "text/plain": [
       "<IPython.core.display.Markdown object>"
      ]
     },
     "metadata": {},
     "output_type": "display_data"
    }
   ],
   "source": [
    "vectorizer = CountVectorizer(stop_words='english', max_features=10)\n",
    "X = vectorizer.fit_transform(df['feedback'])\n",
    "keywords = vectorizer.get_feature_names_out().tolist()\n",
    "\n",
    "display.display(display.Markdown(\"### 🔑 Top Keywords\\n\" + \"\\n\".join([f\"- {kw}\" for kw in keywords])))"
   ]
  },
  {
   "cell_type": "markdown",
   "id": "0e6f5e26",
   "metadata": {},
   "source": [
    "## 📊 Step 7: Visualize Category Distribution"
   ]
  },
  {
   "cell_type": "code",
   "execution_count": 25,
   "id": "342739a8",
   "metadata": {},
   "outputs": [
    {
     "data": {
      "image/png": "[encoded data removed]",
      "text/plain": [
       "<Figure size 600x400 with 1 Axes>"
      ]
     },
     "metadata": {},
     "output_type": "display_data"
    }
   ],
   "source": [
    "all_categories = [cat for sublist in df['categories'] for cat in sublist]\n",
    "cat_df = pd.DataFrame({'category': all_categories})\n",
    "\n",
    "plt.figure(figsize=(6,4))\n",
    "sns.countplot(y='category', data=cat_df, order=cat_df['category'].value_counts().index)\n",
    "plt.title(\"Feedback Category Distribution\")\n",
    "plt.show()"
   ]
  },
  {
   "cell_type": "markdown",
   "id": "cde2ceed",
   "metadata": {},
   "source": [
    "## 💾 Step 8: Save the Processed Data (Optional)"
   ]
  },
  {
   "cell_type": "code",
   "execution_count": 26,
   "id": "76ea9541",
   "metadata": {},
   "outputs": [
    {
     "name": "stdout",
     "output_type": "stream",
     "text": [
      "Processed data saved as processed_feedback.csv\n"
     ]
    }
   ],
   "source": [
    "df.to_csv(\"processed_feedback.csv\", index=False)\n",
    "print(\"Processed data saved as processed_feedback.csv\")"
   ]
  },
  {
   "cell_type": "markdown",
   "id": "b2c7f9be",
   "metadata": {},
   "source": [
    "## 🔍 Step 9: Display Final Processed Feedback"
   ]
  },
  {
   "cell_type": "code",
   "execution_count": 27,
   "id": "1ac345f0",
   "metadata": {},
   "outputs": [
    {
     "data": {
      "text/markdown": [
       "**The app crashes every time I try to upload a photo.**"
      ],
      "text/plain": [
       "<IPython.core.display.Markdown object>"
      ]
     },
     "metadata": {},
     "output_type": "display_data"
    },
    {
     "data": {
      "text/markdown": [
       "- **Categories**: Complaint, Bug"
      ],
      "text/plain": [
       "<IPython.core.display.Markdown object>"
      ]
     },
     "metadata": {},
     "output_type": "display_data"
    },
    {
     "data": {
      "text/markdown": [
       "- **Sentiment**: NEGATIVE | **Urgency**: High"
      ],
      "text/plain": [
       "<IPython.core.display.Markdown object>"
      ]
     },
     "metadata": {},
     "output_type": "display_data"
    },
    {
     "data": {
      "text/markdown": [
       "---"
      ],
      "text/plain": [
       "<IPython.core.display.Markdown object>"
      ]
     },
     "metadata": {},
     "output_type": "display_data"
    },
    {
     "data": {
      "text/markdown": [
       "**Love the new dark mode feature!**"
      ],
      "text/plain": [
       "<IPython.core.display.Markdown object>"
      ]
     },
     "metadata": {},
     "output_type": "display_data"
    },
    {
     "data": {
      "text/markdown": [
       "- **Categories**: Compliment"
      ],
      "text/plain": [
       "<IPython.core.display.Markdown object>"
      ]
     },
     "metadata": {},
     "output_type": "display_data"
    },
    {
     "data": {
      "text/markdown": [
       "- **Sentiment**: POSITIVE | **Urgency**: Low"
      ],
      "text/plain": [
       "<IPython.core.display.Markdown object>"
      ]
     },
     "metadata": {},
     "output_type": "display_data"
    },
    {
     "data": {
      "text/markdown": [
       "---"
      ],
      "text/plain": [
       "<IPython.core.display.Markdown object>"
      ]
     },
     "metadata": {},
     "output_type": "display_data"
    },
    {
     "data": {
      "text/markdown": [
       "**Can you add support for multiple accounts?**"
      ],
      "text/plain": [
       "<IPython.core.display.Markdown object>"
      ]
     },
     "metadata": {},
     "output_type": "display_data"
    },
    {
     "data": {
      "text/markdown": [
       "- **Categories**: Feature Request, Complaint"
      ],
      "text/plain": [
       "<IPython.core.display.Markdown object>"
      ]
     },
     "metadata": {},
     "output_type": "display_data"
    },
    {
     "data": {
      "text/markdown": [
       "- **Sentiment**: NEGATIVE | **Urgency**: High"
      ],
      "text/plain": [
       "<IPython.core.display.Markdown object>"
      ]
     },
     "metadata": {},
     "output_type": "display_data"
    },
    {
     "data": {
      "text/markdown": [
       "---"
      ],
      "text/plain": [
       "<IPython.core.display.Markdown object>"
      ]
     },
     "metadata": {},
     "output_type": "display_data"
    },
    {
     "data": {
      "text/markdown": [
       "**Customer support was very helpful.**"
      ],
      "text/plain": [
       "<IPython.core.display.Markdown object>"
      ]
     },
     "metadata": {},
     "output_type": "display_data"
    },
    {
     "data": {
      "text/markdown": [
       "- **Categories**: Compliment"
      ],
      "text/plain": [
       "<IPython.core.display.Markdown object>"
      ]
     },
     "metadata": {},
     "output_type": "display_data"
    },
    {
     "data": {
      "text/markdown": [
       "- **Sentiment**: POSITIVE | **Urgency**: Low"
      ],
      "text/plain": [
       "<IPython.core.display.Markdown object>"
      ]
     },
     "metadata": {},
     "output_type": "display_data"
    },
    {
     "data": {
      "text/markdown": [
       "---"
      ],
      "text/plain": [
       "<IPython.core.display.Markdown object>"
      ]
     },
     "metadata": {},
     "output_type": "display_data"
    },
    {
     "data": {
      "text/markdown": [
       "**The login process is too slow.**"
      ],
      "text/plain": [
       "<IPython.core.display.Markdown object>"
      ]
     },
     "metadata": {},
     "output_type": "display_data"
    },
    {
     "data": {
      "text/markdown": [
       "- **Categories**: Complaint, Bug, General"
      ],
      "text/plain": [
       "<IPython.core.display.Markdown object>"
      ]
     },
     "metadata": {},
     "output_type": "display_data"
    },
    {
     "data": {
      "text/markdown": [
       "- **Sentiment**: NEGATIVE | **Urgency**: High"
      ],
      "text/plain": [
       "<IPython.core.display.Markdown object>"
      ]
     },
     "metadata": {},
     "output_type": "display_data"
    },
    {
     "data": {
      "text/markdown": [
       "---"
      ],
      "text/plain": [
       "<IPython.core.display.Markdown object>"
      ]
     },
     "metadata": {},
     "output_type": "display_data"
    }
   ],
   "source": [
    "for i, row in df.iterrows():\n",
    "    display.display(display.Markdown(f\"**{row['feedback']}**\"))\n",
    "    display.display(display.Markdown(f\"- **Categories**: {', '.join(row['categories'])}\"))\n",
    "    display.display(display.Markdown(f\"- **Sentiment**: {row['sentiment']} | **Urgency**: {row['urgency']}\"))\n",
    "    display.display(display.Markdown(\"---\"))"
   ]
  },
  {
   "cell_type": "code",
   "execution_count": null,
   "id": "6dd95aaa-fc34-47bf-a82e-1010bc9c57a8",
   "metadata": {},
   "outputs": [],
   "source": []
  },
  {
   "cell_type": "code",
   "execution_count": null,
   "id": "2adc724b-893d-4ed2-981d-a0a2d0e1b9e4",
   "metadata": {},
   "outputs": [],
   "source": []
  }
 ],
 "metadata": {
  "kernelspec": {
   "display_name": "Python 3 (ipykernel)",
   "language": "python",
   "name": "python3"
  },
  "language_info": {
   "codemirror_mode": {
    "name": "ipython",
    "version": 3
   },
   "file_extension": ".py",
   "mimetype": "text/x-python",
   "name": "python",
   "nbconvert_exporter": "python",
   "pygments_lexer": "ipython3",
   "version": "3.13.5"
  }
 },
 "nbformat": 4,
 "nbformat_minor": 5
}
